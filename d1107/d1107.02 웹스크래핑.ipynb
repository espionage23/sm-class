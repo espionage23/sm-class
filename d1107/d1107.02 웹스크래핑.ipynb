{
 "cells": [
  {
   "cell_type": "code",
   "execution_count": 2,
   "metadata": {},
   "outputs": [],
   "source": [
    "from selenium import webdriver\n",
    "from selenium.webdriver.common.by import By\n",
    "from selenium.webdriver.common.keys import Keys\n",
    "import time\n",
    "import requests\n",
    "import csv\n",
    "from bs4 import BeautifulSoup"
   ]
  },
  {
   "cell_type": "code",
   "execution_count": 3,
   "metadata": {},
   "outputs": [
    {
     "name": "stdout",
     "output_type": "stream",
     "text": [
      "2020년도 ----------------------\n",
      "1. ------------------\n",
      "2. ------------------\n",
      "3. ------------------\n",
      "4. ------------------\n",
      "5. ------------------\n",
      "6. ------------------\n",
      "7. ------------------\n",
      "8. ------------------\n",
      "9. ------------------\n",
      "10. ------------------\n",
      "2021년도 ----------------------\n",
      "1. ------------------\n",
      "2. ------------------\n",
      "3. ------------------\n",
      "4. ------------------\n",
      "5. ------------------\n",
      "6. ------------------\n",
      "7. ------------------\n",
      "8. ------------------\n",
      "9. ------------------\n",
      "10. ------------------\n",
      "2022년도 ----------------------\n",
      "1. ------------------\n",
      "2. ------------------\n",
      "3. ------------------\n",
      "4. ------------------\n",
      "5. ------------------\n",
      "6. ------------------\n",
      "7. ------------------\n",
      "8. ------------------\n",
      "9. ------------------\n",
      "10. ------------------\n",
      "2023년도 ----------------------\n"
     ]
    },
    {
     "ename": "AttributeError",
     "evalue": "'NoneType' object has no attribute 'select'",
     "output_type": "error",
     "traceback": [
      "\u001b[1;31m---------------------------------------------------------------------------\u001b[0m",
      "\u001b[1;31mAttributeError\u001b[0m                            Traceback (most recent call last)",
      "Cell \u001b[1;32mIn[3], line 10\u001b[0m\n\u001b[0;32m      8\u001b[0m \u001b[38;5;66;03m# 기준점\u001b[39;00m\n\u001b[0;32m      9\u001b[0m data \u001b[38;5;241m=\u001b[39m soup\u001b[38;5;241m.\u001b[39mselect_one(\u001b[38;5;124m\"\u001b[39m\u001b[38;5;124m#mor_history_id_0 > div > div.flipsnap_view > div > div:nth-child(1) > c-flicking-item > c-layout > div > c-list-doc > ul\u001b[39m\u001b[38;5;124m\"\u001b[39m)\n\u001b[1;32m---> 10\u001b[0m screens \u001b[38;5;241m=\u001b[39m \u001b[43mdata\u001b[49m\u001b[38;5;241;43m.\u001b[39;49m\u001b[43mselect\u001b[49m(\u001b[38;5;124m\"\u001b[39m\u001b[38;5;124mli\u001b[39m\u001b[38;5;124m\"\u001b[39m)\n\u001b[0;32m     12\u001b[0m \u001b[38;5;28;01mfor\u001b[39;00m i,screen \u001b[38;5;129;01min\u001b[39;00m \u001b[38;5;28menumerate\u001b[39m(screens):\n\u001b[0;32m     13\u001b[0m   \u001b[38;5;28mprint\u001b[39m(\u001b[38;5;124mf\u001b[39m\u001b[38;5;124m\"\u001b[39m\u001b[38;5;132;01m{\u001b[39;00mi\u001b[38;5;241m+\u001b[39m\u001b[38;5;241m1\u001b[39m\u001b[38;5;132;01m}\u001b[39;00m\u001b[38;5;124m. ------------------\u001b[39m\u001b[38;5;124m\"\u001b[39m)\n",
      "\u001b[1;31mAttributeError\u001b[0m: 'NoneType' object has no attribute 'select'"
     ]
    }
   ],
   "source": [
    "# 웹스크래핑 시작\n",
    "s_list = []\n",
    "for syear in range(2020,2024):\n",
    "  with open(f'screen{syear}.html','r',encoding='utf-8') as f:\n",
    "    soup = BeautifulSoup(f,'lxml')\n",
    "    print(f\"{syear}년도 ----------------------\")\n",
    "\n",
    "    # 기준점\n",
    "    data = soup.select_one(\"#mor_history_id_0 > div > div.flipsnap_view > div > div:nth-child(1) > c-flicking-item > c-layout > div > c-list-doc > ul\")\n",
    "    screens = data.select(\"li\")\n",
    "\n",
    "    for i,screen in enumerate(screens):\n",
    "      print(f\"{i+1}. ------------------\")\n",
    "      s_img = screen.select_one(\".wrap_thumb img\")['src']\n",
    "      title = screen.select_one(\".tit-g.clamp-g\").text.strip()\n",
    "      # number = int(screen.select_one(\".conts-desc.clamp-g\").text.strip()[3:-2].replace(\",\",\"\"))\n",
    "      number = screen.select_one(\".conts-desc.clamp-g\").text.strip()[3:-2].replace(\",\",\"\")\n",
    "      sdate = screen.select_one(\".conts-subdesc.clamp-g\").text.strip()[:-1]\n",
    "      # 정보40개 저장됨.\n",
    "      s_list.append([title,number,sdate])\n",
    "      # 파일저장을 하지 않고, s_list 모든 데이터를 담아서,\n",
    "      # 뒤에서 모두 저장\n",
    "\n",
    "print(\"리스트 파일 작업완료\")\n",
    "\n"
   ]
  },
  {
   "cell_type": "code",
   "execution_count": null,
   "metadata": {},
   "outputs": [],
   "source": [
    "import pandas as pd\n",
    "df = pd.read_csv('screens.csv',index_col='제목')"
   ]
  },
  {
   "cell_type": "code",
   "execution_count": null,
   "metadata": {},
   "outputs": [
    {
     "name": "stdout",
     "output_type": "stream",
     "text": [
      "1.\n",
      "['남산의 부장들', 475, '2020.01.22']\n",
      "2.\n",
      "['다만 악에서 구하소서', 435, '2020.10.28']\n",
      "3.\n",
      "['반도', 381, '2020.07.15']\n",
      "4.\n",
      "['히트맨', 240, '2020.01.22']\n",
      "5.\n",
      "['테넷', 200, '2020.08.26']\n",
      "6.\n",
      "['백두산', 825, '2019.12.19']\n",
      "7.\n",
      "['#살아있다', 190, '2020.06.24']\n",
      "8.\n",
      "['강철비2: 정상회담', 179, '2020.09.30']\n",
      "9.\n",
      "['담보', 171, '2020.09.29']\n",
      "10.\n",
      "['닥터 두리틀', 160, '2020.01.08']\n"
     ]
    }
   ],
   "source": [
    "# 파일저장\n",
    "topTitle = ['제목','관객수','날짜']\n",
    "with open('screens.csv','w',encoding=\"utf-8\") as f:\n",
    "  f.write('제목,관객수,날짜\\n')  # 1번만 글 저장\n",
    "  for s in s_list:\n",
    "    f.write(','.join(s)+\"\\n\")\n",
    "\n",
    "print('프로그램 완료')"
   ]
  },
  {
   "cell_type": "code",
   "execution_count": null,
   "metadata": {},
   "outputs": [],
   "source": []
  }
 ],
 "metadata": {
  "kernelspec": {
   "display_name": "Python 3",
   "language": "python",
   "name": "python3"
  },
  "language_info": {
   "codemirror_mode": {
    "name": "ipython",
    "version": 3
   },
   "file_extension": ".py",
   "mimetype": "text/x-python",
   "name": "python",
   "nbconvert_exporter": "python",
   "pygments_lexer": "ipython3",
   "version": "3.12.6"
  }
 },
 "nbformat": 4,
 "nbformat_minor": 2
}
