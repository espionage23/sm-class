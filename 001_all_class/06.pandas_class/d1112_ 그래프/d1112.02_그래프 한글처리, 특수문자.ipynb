{
 "cells": [
  {
   "cell_type": "code",
   "execution_count": null,
   "metadata": {},
   "outputs": [],
   "source": [
    "import matplotlib.pyplot as plt\n",
    "# 한글설장\n",
    "import matplotlib\n",
    "matplotlib.rcParams['font.family'] = 'Malgun Gothic'  # Win 용\n",
    "matplotlib.rcParams['font.size'] = 15 #글자\n",
    "matplotlib.rcParams['axes.unicode_minus'] = False\n",
    "# matplotlib.rcParams['font.family'] = 'AppleGothic' # Mac용\n",
    "import pandas as pd\n",
    "df = pd.read_excel('score.xlsx',index_col='지원번호')"
   ]
  },
  {
   "cell_type": "code",
   "execution_count": null,
   "metadata": {},
   "outputs": [],
   "source": [
    "# x,y축의 데이터\n",
    "x = [1,2,3]\n",
    "y = [2,4,8]\n",
    "\n",
    "# 그래프 생성\n",
    "plt.plot(x,y, label='인원증가')\n",
    "\n",
    "# 상단 타이틀\n",
    "plt.title(\"라인그래프 Line\", size=30) # size: 글자크기 변경"
   ]
  }
 ],
 "metadata": {
  "kernelspec": {
   "display_name": "Python 3",
   "language": "python",
   "name": "python3"
  },
  "language_info": {
   "codemirror_mode": {
    "name": "ipython",
    "version": 3
   },
   "file_extension": ".py",
   "mimetype": "text/x-python",
   "name": "python",
   "nbconvert_exporter": "python",
   "pygments_lexer": "ipython3",
   "version": "3.12.6"
  }
 },
 "nbformat": 4,
 "nbformat_minor": 2
}
