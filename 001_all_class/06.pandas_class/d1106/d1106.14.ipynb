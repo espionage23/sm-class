{
 "cells": [
  {
   "cell_type": "code",
   "execution_count": 1,
   "metadata": {},
   "outputs": [],
   "source": [
    "import pandas as pd"
   ]
  },
  {
   "cell_type": "markdown",
   "metadata": {},
   "source": [
    "csv 파일로 저장\n",
    "1. 2020년 ~ 2023년 영화 내용을 저장\n",
    "* 관객\n",
    "* 관객수 : 숫자입력 1,312 -> 1312\n",
    "* 날짜\n",
    "\n",
    "DataFrame 변경\n",
    "관객수\n",
    "* -> 최대값\n",
    "* -> 최소값\n",
    "* -> 평균\n",
    "* -> 최대관객수 5개\n",
    "* -> 최소관객수 5개를\n",
    "출력하시오."
   ]
  }
 ],
 "metadata": {
  "kernelspec": {
   "display_name": "Python 3",
   "language": "python",
   "name": "python3"
  },
  "language_info": {
   "codemirror_mode": {
    "name": "ipython",
    "version": 3
   },
   "file_extension": ".py",
   "mimetype": "text/x-python",
   "name": "python",
   "nbconvert_exporter": "python",
   "pygments_lexer": "ipython3",
   "version": "3.12.6"
  }
 },
 "nbformat": 4,
 "nbformat_minor": 2
}
